{
  "nbformat": 4,
  "nbformat_minor": 0,
  "metadata": {
    "colab": {
      "provenance": []
    },
    "kernelspec": {
      "name": "python3",
      "display_name": "Python 3"
    },
    "language_info": {
      "name": "python"
    }
  },
  "cells": [
    {
      "cell_type": "markdown",
      "source": [
        "# 1.) Import the data from CCLE into a new Google Colab file"
      ],
      "metadata": {
        "id": "7ywSRtNI4s5h"
      }
    },
    {
      "cell_type": "code",
      "execution_count": 5,
      "metadata": {
        "id": "nsG1QV154GYZ"
      },
      "outputs": [],
      "source": [
        "import pandas as pd\n",
        "from google.colab import drive\n",
        "import matplotlib.pyplot as plt"
      ]
    },
    {
      "cell_type": "code",
      "source": [
        "drive.mount('/content/gdrive/', force_remount = True)"
      ],
      "metadata": {
        "colab": {
          "base_uri": "https://localhost:8080/"
        },
        "id": "Iku0T8Ou4Lcu",
        "outputId": "6179f9a8-73cc-4bf6-c123-b3c46b10aa79"
      },
      "execution_count": 6,
      "outputs": [
        {
          "output_type": "stream",
          "name": "stdout",
          "text": [
            "Mounted at /content/gdrive/\n"
          ]
        }
      ]
    },
    {
      "cell_type": "code",
      "source": [
        "df = pd.read_csv(\"/content/gdrive/MyDrive/insurance.csv\")"
      ],
      "metadata": {
        "id": "KJQfo8mz43Kz"
      },
      "execution_count": 7,
      "outputs": []
    },
    {
      "cell_type": "code",
      "source": [
        "df.loc[df[\"sex\"] == \"female\",\"sex\"] = 1\n",
        "df.loc[df[\"sex\"] == \"male\",\"sex\"] = 0\n",
        "\n",
        "df.loc[df[\"smoker\"] == \"yes\",\"smoker\"] = 1\n",
        "df.loc[df[\"smoker\"] == \"no\",\"smoker\"] = 0\n",
        "\n",
        "df.loc[df[\"region\"] == \"northwest\",\"region\"] = 1\n",
        "df.loc[df[\"region\"] == \"northeast\",\"region\"] = 0\n",
        "df.loc[df[\"region\"] == \"southwest\",\"region\"] = 3\n",
        "df.loc[df[\"region\"] == \"southeast\",\"region\"] = 2"
      ],
      "metadata": {
        "id": "N9Y_AoeC43Ub"
      },
      "execution_count": 8,
      "outputs": []
    },
    {
      "cell_type": "code",
      "source": [
        "df.head()"
      ],
      "metadata": {
        "colab": {
          "base_uri": "https://localhost:8080/",
          "height": 204
        },
        "id": "JvktLOSE5cfm",
        "outputId": "b2ad599f-60ba-4fc8-9fef-c5b1b4f8ee29"
      },
      "execution_count": 9,
      "outputs": [
        {
          "output_type": "execute_result",
          "data": {
            "text/plain": [
              "   age sex     bmi  children smoker region      charges\n",
              "0   19   1  27.900         0      1      3  16884.92400\n",
              "1   18   0  33.770         1      0      2   1725.55230\n",
              "2   28   0  33.000         3      0      2   4449.46200\n",
              "3   33   0  22.705         0      0      1  21984.47061\n",
              "4   32   0  28.880         0      0      1   3866.85520"
            ],
            "text/html": [
              "\n",
              "  <div id=\"df-00a6156a-7bd1-4fb7-a972-7ecbfa3335a7\">\n",
              "    <div class=\"colab-df-container\">\n",
              "      <div>\n",
              "<style scoped>\n",
              "    .dataframe tbody tr th:only-of-type {\n",
              "        vertical-align: middle;\n",
              "    }\n",
              "\n",
              "    .dataframe tbody tr th {\n",
              "        vertical-align: top;\n",
              "    }\n",
              "\n",
              "    .dataframe thead th {\n",
              "        text-align: right;\n",
              "    }\n",
              "</style>\n",
              "<table border=\"1\" class=\"dataframe\">\n",
              "  <thead>\n",
              "    <tr style=\"text-align: right;\">\n",
              "      <th></th>\n",
              "      <th>age</th>\n",
              "      <th>sex</th>\n",
              "      <th>bmi</th>\n",
              "      <th>children</th>\n",
              "      <th>smoker</th>\n",
              "      <th>region</th>\n",
              "      <th>charges</th>\n",
              "    </tr>\n",
              "  </thead>\n",
              "  <tbody>\n",
              "    <tr>\n",
              "      <th>0</th>\n",
              "      <td>19</td>\n",
              "      <td>1</td>\n",
              "      <td>27.900</td>\n",
              "      <td>0</td>\n",
              "      <td>1</td>\n",
              "      <td>3</td>\n",
              "      <td>16884.92400</td>\n",
              "    </tr>\n",
              "    <tr>\n",
              "      <th>1</th>\n",
              "      <td>18</td>\n",
              "      <td>0</td>\n",
              "      <td>33.770</td>\n",
              "      <td>1</td>\n",
              "      <td>0</td>\n",
              "      <td>2</td>\n",
              "      <td>1725.55230</td>\n",
              "    </tr>\n",
              "    <tr>\n",
              "      <th>2</th>\n",
              "      <td>28</td>\n",
              "      <td>0</td>\n",
              "      <td>33.000</td>\n",
              "      <td>3</td>\n",
              "      <td>0</td>\n",
              "      <td>2</td>\n",
              "      <td>4449.46200</td>\n",
              "    </tr>\n",
              "    <tr>\n",
              "      <th>3</th>\n",
              "      <td>33</td>\n",
              "      <td>0</td>\n",
              "      <td>22.705</td>\n",
              "      <td>0</td>\n",
              "      <td>0</td>\n",
              "      <td>1</td>\n",
              "      <td>21984.47061</td>\n",
              "    </tr>\n",
              "    <tr>\n",
              "      <th>4</th>\n",
              "      <td>32</td>\n",
              "      <td>0</td>\n",
              "      <td>28.880</td>\n",
              "      <td>0</td>\n",
              "      <td>0</td>\n",
              "      <td>1</td>\n",
              "      <td>3866.85520</td>\n",
              "    </tr>\n",
              "  </tbody>\n",
              "</table>\n",
              "</div>\n",
              "      <button class=\"colab-df-convert\" onclick=\"convertToInteractive('df-00a6156a-7bd1-4fb7-a972-7ecbfa3335a7')\"\n",
              "              title=\"Convert this dataframe to an interactive table.\"\n",
              "              style=\"display:none;\">\n",
              "        \n",
              "  <svg xmlns=\"http://www.w3.org/2000/svg\" height=\"24px\"viewBox=\"0 0 24 24\"\n",
              "       width=\"24px\">\n",
              "    <path d=\"M0 0h24v24H0V0z\" fill=\"none\"/>\n",
              "    <path d=\"M18.56 5.44l.94 2.06.94-2.06 2.06-.94-2.06-.94-.94-2.06-.94 2.06-2.06.94zm-11 1L8.5 8.5l.94-2.06 2.06-.94-2.06-.94L8.5 2.5l-.94 2.06-2.06.94zm10 10l.94 2.06.94-2.06 2.06-.94-2.06-.94-.94-2.06-.94 2.06-2.06.94z\"/><path d=\"M17.41 7.96l-1.37-1.37c-.4-.4-.92-.59-1.43-.59-.52 0-1.04.2-1.43.59L10.3 9.45l-7.72 7.72c-.78.78-.78 2.05 0 2.83L4 21.41c.39.39.9.59 1.41.59.51 0 1.02-.2 1.41-.59l7.78-7.78 2.81-2.81c.8-.78.8-2.07 0-2.86zM5.41 20L4 18.59l7.72-7.72 1.47 1.35L5.41 20z\"/>\n",
              "  </svg>\n",
              "      </button>\n",
              "      \n",
              "  <style>\n",
              "    .colab-df-container {\n",
              "      display:flex;\n",
              "      flex-wrap:wrap;\n",
              "      gap: 12px;\n",
              "    }\n",
              "\n",
              "    .colab-df-convert {\n",
              "      background-color: #E8F0FE;\n",
              "      border: none;\n",
              "      border-radius: 50%;\n",
              "      cursor: pointer;\n",
              "      display: none;\n",
              "      fill: #1967D2;\n",
              "      height: 32px;\n",
              "      padding: 0 0 0 0;\n",
              "      width: 32px;\n",
              "    }\n",
              "\n",
              "    .colab-df-convert:hover {\n",
              "      background-color: #E2EBFA;\n",
              "      box-shadow: 0px 1px 2px rgba(60, 64, 67, 0.3), 0px 1px 3px 1px rgba(60, 64, 67, 0.15);\n",
              "      fill: #174EA6;\n",
              "    }\n",
              "\n",
              "    [theme=dark] .colab-df-convert {\n",
              "      background-color: #3B4455;\n",
              "      fill: #D2E3FC;\n",
              "    }\n",
              "\n",
              "    [theme=dark] .colab-df-convert:hover {\n",
              "      background-color: #434B5C;\n",
              "      box-shadow: 0px 1px 3px 1px rgba(0, 0, 0, 0.15);\n",
              "      filter: drop-shadow(0px 1px 2px rgba(0, 0, 0, 0.3));\n",
              "      fill: #FFFFFF;\n",
              "    }\n",
              "  </style>\n",
              "\n",
              "      <script>\n",
              "        const buttonEl =\n",
              "          document.querySelector('#df-00a6156a-7bd1-4fb7-a972-7ecbfa3335a7 button.colab-df-convert');\n",
              "        buttonEl.style.display =\n",
              "          google.colab.kernel.accessAllowed ? 'block' : 'none';\n",
              "\n",
              "        async function convertToInteractive(key) {\n",
              "          const element = document.querySelector('#df-00a6156a-7bd1-4fb7-a972-7ecbfa3335a7');\n",
              "          const dataTable =\n",
              "            await google.colab.kernel.invokeFunction('convertToInteractive',\n",
              "                                                     [key], {});\n",
              "          if (!dataTable) return;\n",
              "\n",
              "          const docLinkHtml = 'Like what you see? Visit the ' +\n",
              "            '<a target=\"_blank\" href=https://colab.research.google.com/notebooks/data_table.ipynb>data table notebook</a>'\n",
              "            + ' to learn more about interactive tables.';\n",
              "          element.innerHTML = '';\n",
              "          dataTable['output_type'] = 'display_data';\n",
              "          await google.colab.output.renderOutput(dataTable, element);\n",
              "          const docLink = document.createElement('div');\n",
              "          docLink.innerHTML = docLinkHtml;\n",
              "          element.appendChild(docLink);\n",
              "        }\n",
              "      </script>\n",
              "    </div>\n",
              "  </div>\n",
              "  "
            ]
          },
          "metadata": {},
          "execution_count": 9
        }
      ]
    },
    {
      "cell_type": "markdown",
      "source": [
        "# 2.) Split the data into 80/20, in/out sample"
      ],
      "metadata": {
        "id": "b6dsh9sc43jg"
      }
    },
    {
      "cell_type": "code",
      "source": [
        "import numpy as np"
      ],
      "metadata": {
        "id": "0Dj2Fopx47jY"
      },
      "execution_count": 10,
      "outputs": []
    },
    {
      "cell_type": "code",
      "source": [
        "data = np.array(df.iloc[:, :-1])\n",
        "target = np.array(df.iloc[:, -1])"
      ],
      "metadata": {
        "id": "EU2j_fos48Uz"
      },
      "execution_count": 11,
      "outputs": []
    },
    {
      "cell_type": "code",
      "source": [
        "cut = int((len(data) * .8) // 1)"
      ],
      "metadata": {
        "id": "4zdi7HCb48X3"
      },
      "execution_count": 12,
      "outputs": []
    },
    {
      "cell_type": "code",
      "source": [
        "in_data = data[:cut]\n",
        "out_data = data[cut:]\n",
        "\n",
        "in_target = target[:cut]\n",
        "out_target = target[cut:]"
      ],
      "metadata": {
        "id": "Ud5KDUWSUWGk"
      },
      "execution_count": 13,
      "outputs": []
    },
    {
      "cell_type": "markdown",
      "source": [
        "# 3.) Normalize the Data"
      ],
      "metadata": {
        "id": "hnZPWyYg48y9"
      }
    },
    {
      "cell_type": "code",
      "source": [
        "from sklearn import preprocessing"
      ],
      "metadata": {
        "id": "OmDtgBp8AXDh"
      },
      "execution_count": 14,
      "outputs": []
    },
    {
      "cell_type": "code",
      "source": [
        "scaler = preprocessing.StandardScaler().fit(in_data)\n",
        "in_data_scale = scaler.transform(in_data)\n",
        "\n",
        "out_data_scale = scaler.transform(out_data)"
      ],
      "metadata": {
        "id": "eq2VCgOk4-2u"
      },
      "execution_count": 15,
      "outputs": []
    },
    {
      "cell_type": "code",
      "source": [
        "in_data_scale"
      ],
      "metadata": {
        "id": "ye4jMpQt4_nP",
        "colab": {
          "base_uri": "https://localhost:8080/"
        },
        "outputId": "3c787b59-4591-4982-efb4-3d7463d2a22b"
      },
      "execution_count": 16,
      "outputs": [
        {
          "output_type": "execute_result",
          "data": {
            "text/plain": [
              "array([[-1.45390122,  1.02077653, -0.47403991, -0.90286618,  1.99417757,\n",
              "         1.34066165],\n",
              "       [-1.52464584, -0.97964634,  0.4911621 , -0.06353793, -0.50145986,\n",
              "         0.4373191 ],\n",
              "       [-0.81719959, -0.97964634,  0.36455128,  1.61511857, -0.50145986,\n",
              "         0.4373191 ],\n",
              "       ...,\n",
              "       [-0.03900872, -0.97964634,  1.95211949, -0.90286618, -0.50145986,\n",
              "        -1.36936599],\n",
              "       [ 1.65886228, -0.97964634, -1.50008089, -0.06353793, -0.50145986,\n",
              "        -0.46602344],\n",
              "       [ 1.02216066,  1.02077653,  0.18367867, -0.06353793, -0.50145986,\n",
              "         0.4373191 ]])"
            ]
          },
          "metadata": {},
          "execution_count": 16
        }
      ]
    },
    {
      "cell_type": "markdown",
      "source": [
        "# 4.) Get lambda from Lasso cross validation"
      ],
      "metadata": {
        "id": "8WC0zdBU5AIQ"
      }
    },
    {
      "cell_type": "code",
      "source": [
        "from sklearn.linear_model import LassoCV\n",
        "\n",
        "modCV = LassoCV().fit(in_data_scale, in_target)"
      ],
      "metadata": {
        "id": "IAV53xNW5B-4"
      },
      "execution_count": 17,
      "outputs": []
    },
    {
      "cell_type": "code",
      "source": [
        "a = modCV.alpha_"
      ],
      "metadata": {
        "id": "ksZzsNKL5Ca2"
      },
      "execution_count": 18,
      "outputs": []
    },
    {
      "cell_type": "code",
      "source": [
        "a"
      ],
      "metadata": {
        "id": "jWRcnpVp5Cdb",
        "colab": {
          "base_uri": "https://localhost:8080/"
        },
        "outputId": "e3d8dcbd-cfc8-47ed-a531-864275149deb"
      },
      "execution_count": 19,
      "outputs": [
        {
          "output_type": "execute_result",
          "data": {
            "text/plain": [
              "133.34880015958146"
            ]
          },
          "metadata": {},
          "execution_count": 19
        }
      ]
    },
    {
      "cell_type": "code",
      "source": [],
      "metadata": {
        "id": "_v8KqWiq5CgU"
      },
      "execution_count": 19,
      "outputs": []
    },
    {
      "cell_type": "markdown",
      "source": [
        "# 5.) Run a lasso regression with that Lambda"
      ],
      "metadata": {
        "id": "_--IC6M65DAG"
      }
    },
    {
      "cell_type": "code",
      "source": [
        "from sklearn.linear_model import Lasso"
      ],
      "metadata": {
        "id": "xh9TmgN6xALX"
      },
      "execution_count": 20,
      "outputs": []
    },
    {
      "cell_type": "code",
      "source": [
        "mod1 = Lasso(alpha = 124.36153733168733).fit(in_data_scale, in_target)"
      ],
      "metadata": {
        "id": "gkdZGF-45EvR"
      },
      "execution_count": 21,
      "outputs": []
    },
    {
      "cell_type": "code",
      "source": [
        "coefficient = mod1.coef_"
      ],
      "metadata": {
        "id": "RSE7QkQt5FK4"
      },
      "execution_count": 22,
      "outputs": []
    },
    {
      "cell_type": "code",
      "source": [
        "coefficient"
      ],
      "metadata": {
        "id": "4sUySoS95FN_",
        "colab": {
          "base_uri": "https://localhost:8080/"
        },
        "outputId": "ba3093b7-024f-47c3-c2df-1350e66b2bf2"
      },
      "execution_count": 23,
      "outputs": [
        {
          "output_type": "execute_result",
          "data": {
            "text/plain": [
              "array([3572.04826817,    0.        , 1900.35791201,  406.75812258,\n",
              "       9333.87039289, -336.93806225])"
            ]
          },
          "metadata": {},
          "execution_count": 23
        }
      ]
    },
    {
      "cell_type": "markdown",
      "source": [
        "# 6.) Visualize the coefficients "
      ],
      "metadata": {
        "id": "bIrU3G0V5Fkd"
      }
    },
    {
      "cell_type": "code",
      "source": [
        "df2 = pd.DataFrame(zip(df.columns[:-1], mod1.coef_))"
      ],
      "metadata": {
        "id": "yHMKovxw5JyP"
      },
      "execution_count": 24,
      "outputs": []
    },
    {
      "cell_type": "code",
      "source": [
        "plt.bar(df2[0], df2[1], color = \"red\")\n",
        "plt.axhline(0, color = \"red\")\n",
        "plt.xlabel(\"Beta\")\n",
        "plt.ylabel(\"Magnitude\")\n",
        "plt.title(\"Coefficients of Lasso Regression\")"
      ],
      "metadata": {
        "id": "hJ6_uMFn5Rmt",
        "colab": {
          "base_uri": "https://localhost:8080/",
          "height": 312
        },
        "outputId": "efe70456-117a-41d3-935b-3343cf66e08f"
      },
      "execution_count": 25,
      "outputs": [
        {
          "output_type": "execute_result",
          "data": {
            "text/plain": [
              "Text(0.5, 1.0, 'Coefficients of Lasso Regression')"
            ]
          },
          "metadata": {},
          "execution_count": 25
        },
        {
          "output_type": "display_data",
          "data": {
            "text/plain": [
              "<Figure size 432x288 with 1 Axes>"
            ],
            "image/png": "[encoded data removed]"
          },
          "metadata": {
            "needs_background": "light"
          }
        }
      ]
    },
    {
      "cell_type": "markdown",
      "source": [
        "# 7.) Interpret the coefficients"
      ],
      "metadata": {
        "id": "_vl1fi9m5Rzf"
      }
    },
    {
      "cell_type": "markdown",
      "source": [
        "From the above graph, we can see that age, bmi, children and smoker all have positive effects. Out of these, smoker seems to have the highest posituve effect as it demonstrates the highest magnitutde. \n",
        "\n",
        "Sex, on the other hand, either has low magnitude or none at all. \n",
        "\n",
        "Region has a negative effect. "
      ],
      "metadata": {
        "id": "CT0iZHkArmMu"
      }
    },
    {
      "cell_type": "markdown",
      "source": [
        "# 8.) Compare in and out of sample MSE’s"
      ],
      "metadata": {
        "id": "WpR8BVH05UFU"
      }
    },
    {
      "cell_type": "code",
      "source": [
        "from sklearn.metrics import mean_squared_error\n",
        "in_sample_mse = mean_squared_error(mod1.predict(in_data_scale), in_target)\n",
        "print(f'In-sample MSEL {in_sample_mse}')"
      ],
      "metadata": {
        "id": "8GUc8LoE5Vym",
        "colab": {
          "base_uri": "https://localhost:8080/"
        },
        "outputId": "2b36e00c-89dd-48ba-d6d6-8604adff06a5"
      },
      "execution_count": 27,
      "outputs": [
        {
          "output_type": "stream",
          "name": "stdout",
          "text": [
            "In-sample MSEL 36478752.72611104\n"
          ]
        }
      ]
    },
    {
      "cell_type": "code",
      "source": [
        "out_sample_mse = mean_squared_error(mod1.predict(out_data_scale), out_target)\n",
        "print(f'Out-sample MSEL {out_sample_mse}')"
      ],
      "metadata": {
        "id": "1m8z_hPn5WvY",
        "colab": {
          "base_uri": "https://localhost:8080/"
        },
        "outputId": "9fb9842c-f7a6-4ca2-d008-0d40cb6882c3"
      },
      "execution_count": 29,
      "outputs": [
        {
          "output_type": "stream",
          "name": "stdout",
          "text": [
            "Out-sample MSEL 37242752.37191438\n"
          ]
        }
      ]
    },
    {
      "cell_type": "markdown",
      "source": [
        "We see that the out-sample MSE is greater than the in-sample MSE."
      ],
      "metadata": {
        "id": "TAwyObhErRya"
      }
    }
  ]
}